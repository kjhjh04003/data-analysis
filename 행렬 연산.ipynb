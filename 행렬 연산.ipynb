{
 "cells": [
  {
   "cell_type": "code",
   "execution_count": 1,
   "id": "fe48011b",
   "metadata": {},
   "outputs": [],
   "source": [
    "matrix_a=[[3,6],[4,5]]\n",
    "matrix_b=[[5,8],[6,7]]"
   ]
  },
  {
   "cell_type": "code",
   "execution_count": 2,
   "id": "82e3d1a9",
   "metadata": {},
   "outputs": [
    {
     "name": "stdout",
     "output_type": "stream",
     "text": [
      "[[8, 14], [10, 12]]\n"
     ]
    }
   ],
   "source": [
    "result=[[sum(row) for row in zip(*t)] for t in zip(matrix_a, matrix_b)]\n",
    "print(result)"
   ]
  },
  {
   "cell_type": "code",
   "execution_count": 5,
   "id": "dc4a43f7",
   "metadata": {},
   "outputs": [
    {
     "name": "stdout",
     "output_type": "stream",
     "text": [
      "[[ 8 14]\n",
      " [10 12]]\n"
     ]
    }
   ],
   "source": [
    "import numpy as np\n",
    "nmatrix_a=np.array([[3,6],[4,5]])\n",
    "nmatrix_b=np.array([[5,8],[6,7]])\n",
    "result=nmatrix_a+nmatrix_b\n",
    "print(result)"
   ]
  },
  {
   "cell_type": "code",
   "execution_count": 1,
   "id": "cca30c2d",
   "metadata": {},
   "outputs": [
    {
     "name": "stdout",
     "output_type": "stream",
     "text": [
      "[[1, 4], [2, 5], [3, 6]]\n"
     ]
    }
   ],
   "source": [
    "# 전치 행렬\n",
    "matrix_a=[[1,2,3],[4,5,6]]\n",
    "\n",
    "result=[[element for element in t] for t in zip(*matrix_a)]\n",
    "print(result)"
   ]
  },
  {
   "cell_type": "code",
   "execution_count": 2,
   "id": "5431e93e",
   "metadata": {},
   "outputs": [],
   "source": [
    "import numpy as np"
   ]
  },
  {
   "cell_type": "code",
   "execution_count": 3,
   "id": "6df81dc0",
   "metadata": {},
   "outputs": [
    {
     "name": "stdout",
     "output_type": "stream",
     "text": [
      "[[1 4]\n",
      " [2 5]\n",
      " [3 6]]\n",
      "[[1 4]\n",
      " [2 5]\n",
      " [3 6]]\n"
     ]
    }
   ],
   "source": [
    "matrix_a=np.array([[1,2,3],[4,5,6]])\n",
    "matrix_a_t=matrix_a.T\n",
    "matrix_a_t2=np.transpose(matrix_a)\n",
    "print(matrix_a_t)\n",
    "print(matrix_a_t2)"
   ]
  },
  {
   "cell_type": "code",
   "execution_count": 2,
   "id": "80b3ed2f",
   "metadata": {},
   "outputs": [],
   "source": [
    "# 행렬의 곱\n",
    "matrix_a=[[1,1,2],[2,1,1]]\n",
    "matrix_b=[[1,1],[2,1],[1,3]]"
   ]
  },
  {
   "cell_type": "code",
   "execution_count": 6,
   "id": "3a04a1f0",
   "metadata": {},
   "outputs": [
    {
     "name": "stdout",
     "output_type": "stream",
     "text": [
      "[[5, 8], [5, 6]]\n"
     ]
    }
   ],
   "source": [
    "result = [[sum(a*b for a, b in zip(row_a, column_b)) for column_b in zip(*matrix_b)] for row_a in matrix_a]\n",
    "print(result)"
   ]
  },
  {
   "cell_type": "code",
   "execution_count": 7,
   "id": "395f1fd2",
   "metadata": {
    "scrolled": true
   },
   "outputs": [
    {
     "name": "stdout",
     "output_type": "stream",
     "text": [
      "[1, 1, 2]\n",
      "[2, 1, 1]\n"
     ]
    }
   ],
   "source": [
    "for row_a in matrix_a:\n",
    "    print(row_a)"
   ]
  },
  {
   "cell_type": "code",
   "execution_count": 9,
   "id": "4b0b5171",
   "metadata": {},
   "outputs": [
    {
     "name": "stdout",
     "output_type": "stream",
     "text": [
      "(1, 2, 1)\n",
      "(1, 1, 3)\n"
     ]
    }
   ],
   "source": [
    "for column_b in zip(*matrix_b):\n",
    "    print(column_b)"
   ]
  },
  {
   "cell_type": "code",
   "execution_count": 13,
   "id": "432be69c",
   "metadata": {},
   "outputs": [
    {
     "data": {
      "text/plain": [
       "6"
      ]
     },
     "execution_count": 13,
     "metadata": {},
     "output_type": "execute_result"
    }
   ],
   "source": [
    "sum(a*b for a, b in zip(row_a, column_b))"
   ]
  },
  {
   "cell_type": "code",
   "execution_count": 15,
   "id": "0a1c432f",
   "metadata": {},
   "outputs": [],
   "source": [
    "import numpy as np"
   ]
  },
  {
   "cell_type": "code",
   "execution_count": 16,
   "id": "2e2174b3",
   "metadata": {},
   "outputs": [
    {
     "name": "stdout",
     "output_type": "stream",
     "text": [
      "[[5 8]\n",
      " [5 6]]\n"
     ]
    }
   ],
   "source": [
    "matrix_a=np.array([[1,1,2],[2,1,1]])\n",
    "matrix_b=np.array([[1,1],[2,1],[1,3]])\n",
    "result=matrix_a.dot(matrix_b)\n",
    "print(result)"
   ]
  }
 ],
 "metadata": {
  "kernelspec": {
   "display_name": "Python 3",
   "language": "python",
   "name": "python3"
  },
  "language_info": {
   "codemirror_mode": {
    "name": "ipython",
    "version": 3
   },
   "file_extension": ".py",
   "mimetype": "text/x-python",
   "name": "python",
   "nbconvert_exporter": "python",
   "pygments_lexer": "ipython3",
   "version": "3.7.10"
  }
 },
 "nbformat": 4,
 "nbformat_minor": 5
}
