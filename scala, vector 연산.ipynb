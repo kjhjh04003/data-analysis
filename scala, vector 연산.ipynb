{
 "cells": [
  {
   "cell_type": "code",
   "execution_count": 1,
   "id": "e9cfd876",
   "metadata": {},
   "outputs": [],
   "source": [
    "u=[1,2,3]\n",
    "v=[4,5,6]\n",
    "alpha=2"
   ]
  },
  {
   "cell_type": "code",
   "execution_count": 2,
   "id": "00addfce",
   "metadata": {},
   "outputs": [
    {
     "name": "stdout",
     "output_type": "stream",
     "text": [
      "[10, 14, 18]\n"
     ]
    }
   ],
   "source": [
    "result=[alpha*sum(t) for t in zip(u,v)]\n",
    "print(result)"
   ]
  },
  {
   "cell_type": "code",
   "execution_count": 3,
   "id": "3c427d8d",
   "metadata": {},
   "outputs": [
    {
     "name": "stdout",
     "output_type": "stream",
     "text": [
      "[10 14 18]\n"
     ]
    }
   ],
   "source": [
    "import numpy as np\n",
    "nu=np.array([1,2,3])\n",
    "nv=np.array([4,5,6])\n",
    "alpha=2\n",
    "\n",
    "result=(nu+nv)*alpha\n",
    "print(result)"
   ]
  }
 ],
 "metadata": {
  "kernelspec": {
   "display_name": "Python 3",
   "language": "python",
   "name": "python3"
  },
  "language_info": {
   "codemirror_mode": {
    "name": "ipython",
    "version": 3
   },
   "file_extension": ".py",
   "mimetype": "text/x-python",
   "name": "python",
   "nbconvert_exporter": "python",
   "pygments_lexer": "ipython3",
   "version": "3.7.10"
  }
 },
 "nbformat": 4,
 "nbformat_minor": 5
}
