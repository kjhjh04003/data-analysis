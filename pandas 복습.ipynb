{
 "cells": [
  {
   "cell_type": "code",
   "execution_count": 1,
   "id": "a58cb9a9",
   "metadata": {},
   "outputs": [],
   "source": [
    "import pandas as pd\n",
    "import numpy as np"
   ]
  },
  {
   "cell_type": "code",
   "execution_count": 3,
   "id": "59ea849c",
   "metadata": {},
   "outputs": [
    {
     "name": "stdout",
     "output_type": "stream",
     "text": [
      "             A   B   C\n",
      "2020-05-01   1   2   3\n",
      "2020-05-02   4   5   6\n",
      "2020-05-03   7   8   9\n",
      "2020-05-04  10  11  12\n"
     ]
    }
   ],
   "source": [
    "data=np.array([[1,2,3],[4,5,6],[7,8,9],[10,11,12]])\n",
    "index_date=pd.date_range('2020-05-01', periods=4)\n",
    "columns_list=['A','B','C']\n",
    "df=pd.DataFrame(data, index=index_date, columns=columns_list)\n",
    "print(df)"
   ]
  },
  {
   "cell_type": "code",
   "execution_count": 4,
   "id": "086fb69d",
   "metadata": {},
   "outputs": [
    {
     "name": "stdout",
     "output_type": "stream",
     "text": [
      "     연도  지사  고객수\n",
      "0  2015  서울  200\n",
      "1  2016  서울  250\n",
      "2  2016  부산  150\n",
      "3  2017  서울  300\n",
      "4  2017  부산  200\n"
     ]
    }
   ],
   "source": [
    "# 딕셔너리로 만들기\n",
    "data = {'연도':[2015,2016,2016,2017,2017], '지사':['서울','서울','부산','서울','부산'],\n",
    "        '고객수':[200,250,150,300,200]}\n",
    "df = pd.DataFrame(data)\n",
    "print(df)"
   ]
  },
  {
   "cell_type": "code",
   "execution_count": 5,
   "id": "0274015e",
   "metadata": {},
   "outputs": [
    {
     "name": "stdout",
     "output_type": "stream",
     "text": [
      "0    서울\n",
      "1    서울\n",
      "2    부산\n",
      "3    서울\n",
      "4    부산\n",
      "Name: 지사, dtype: object\n"
     ]
    }
   ],
   "source": [
    "# 특정 행, 특정 열 선택\n",
    "#지사만 선택\n",
    "print(df['지사'])"
   ]
  },
  {
   "cell_type": "code",
   "execution_count": 9,
   "id": "0ebafffc",
   "metadata": {},
   "outputs": [
    {
     "name": "stdout",
     "output_type": "stream",
     "text": [
      "연도     2016\n",
      "지사       부산\n",
      "고객수     150\n",
      "Name: 2, dtype: object\n"
     ]
    }
   ],
   "source": [
    "# 2016년 행만 선택\n",
    "print(df.loc[2])"
   ]
  }
 ],
 "metadata": {
  "kernelspec": {
   "display_name": "Python 3",
   "language": "python",
   "name": "python3"
  },
  "language_info": {
   "codemirror_mode": {
    "name": "ipython",
    "version": 3
   },
   "file_extension": ".py",
   "mimetype": "text/x-python",
   "name": "python",
   "nbconvert_exporter": "python",
   "pygments_lexer": "ipython3",
   "version": "3.7.10"
  }
 },
 "nbformat": 4,
 "nbformat_minor": 5
}
