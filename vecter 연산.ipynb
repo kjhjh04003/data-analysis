{
 "cells": [
  {
   "cell_type": "code",
   "execution_count": 1,
   "id": "06d461b0",
   "metadata": {},
   "outputs": [],
   "source": [
    "u=[2,3]\n",
    "v=[1,2]\n",
    "z=[-3,5]"
   ]
  },
  {
   "cell_type": "code",
   "execution_count": 2,
   "id": "b7375918",
   "metadata": {},
   "outputs": [],
   "source": [
    "result=[]"
   ]
  },
  {
   "cell_type": "code",
   "execution_count": 3,
   "id": "1373ae97",
   "metadata": {},
   "outputs": [
    {
     "name": "stdout",
     "output_type": "stream",
     "text": [
      "[0, 10]\n"
     ]
    }
   ],
   "source": [
    "for i in range(len(u)):\n",
    "    result.append(u[i]+v[i]+z[i])\n",
    "print(result)"
   ]
  },
  {
   "cell_type": "code",
   "execution_count": 4,
   "id": "e4177089",
   "metadata": {},
   "outputs": [
    {
     "name": "stdout",
     "output_type": "stream",
     "text": [
      "[0, 10]\n"
     ]
    }
   ],
   "source": [
    "result=[sum(t) for t in zip(u, v, z)]\n",
    "print(result)"
   ]
  },
  {
   "cell_type": "code",
   "execution_count": 5,
   "id": "d9c9fcc8",
   "metadata": {},
   "outputs": [],
   "source": [
    "def vector_addition(*args):\n",
    "    return[sum(t) for t in zip(*args)]"
   ]
  },
  {
   "cell_type": "code",
   "execution_count": 6,
   "id": "b42af222",
   "metadata": {},
   "outputs": [
    {
     "name": "stdout",
     "output_type": "stream",
     "text": [
      "[0, 10]\n"
     ]
    }
   ],
   "source": [
    "u=[2,3]\n",
    "v=[1,2]\n",
    "z=[-3,5]\n",
    "print(vector_addition(u,v,z))"
   ]
  },
  {
   "cell_type": "code",
   "execution_count": 8,
   "id": "13f9aad9",
   "metadata": {},
   "outputs": [
    {
     "name": "stdout",
     "output_type": "stream",
     "text": [
      "[0, 9]\n"
     ]
    }
   ],
   "source": [
    "vectors=[[2,2],[1,2], [-3,5]]\n",
    "print(vector_addition(*vectors))"
   ]
  },
  {
   "cell_type": "code",
   "execution_count": 9,
   "id": "eee5a0a3",
   "metadata": {},
   "outputs": [
    {
     "name": "stdout",
     "output_type": "stream",
     "text": [
      "[0 9]\n"
     ]
    }
   ],
   "source": [
    "import numpy as np\n",
    "\n",
    "nu=np.array([2,2])\n",
    "nv=np.array([1,2])\n",
    "nz=np.array([-3,5])\n",
    "\n",
    "sum=nu+nv+nz\n",
    "print(sum)"
   ]
  }
 ],
 "metadata": {
  "kernelspec": {
   "display_name": "Python 3",
   "language": "python",
   "name": "python3"
  },
  "language_info": {
   "codemirror_mode": {
    "name": "ipython",
    "version": 3
   },
   "file_extension": ".py",
   "mimetype": "text/x-python",
   "name": "python",
   "nbconvert_exporter": "python",
   "pygments_lexer": "ipython3",
   "version": "3.7.10"
  }
 },
 "nbformat": 4,
 "nbformat_minor": 5
}
